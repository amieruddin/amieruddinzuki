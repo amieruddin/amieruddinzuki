{
 "cells": [
  {
   "cell_type": "code",
   "execution_count": null,
   "id": "539950ef",
   "metadata": {},
   "outputs": [],
   "source": [
    "import sys\n",
    "from PyQt4 import QtCore, QtGui"
   ]
  },
  {
   "cell_type": "code",
   "execution_count": null,
   "id": "bebb09ac",
   "metadata": {},
   "outputs": [],
   "source": [
    "class WidgetExample(QtGui.QWidget):\n",
    "    def __init__(self, application, parent=None):\n",
    "        super(WidgetExample, self).__init__(parent)\n",
    "\n",
    "\t# This sets the size and window title for the WidgetExample\n",
    "\t# class. Here we are setting the WidgetExample to appear at\n",
    "\t# screen coordinates x:300 y:300 when displayed, and the\n",
    "\t# WidgetExample itself to be 200 x 50 pixels in size. The title\n",
    "\t# for the object is 'Widget Example'\n",
    "\t#\n",
    "        self.setGeometry(300, 300, 200, 50)\n",
    "        self.setWindowTitle('QPushButton Example')\n",
    "\n",
    "    ###########################################################\n",
    "    #                  Example Widget Start                   #\n",
    "    ###########################################################\n",
    "\n",
    "\t# Here we are creating a Toggle Button, which is a button\n",
    "\t# with two states. It switches states every time it is pressed.\n",
    "\t# These states are 'Checked' and 'Unchecked'.\n",
    "\t# To create a toggle button, we just use a special attribute of\n",
    "\t# the QPushButton class.\n",
    "\t#\n",
    "        self.push_button = QtGui.QPushButton('The Button is UnChecked', self)\n",
    "\n",
    "        # Here we turn on the checkable configuration option for the\n",
    "\t# push button. With this turned on, the button will keep track of\n",
    "\t# its state. It defaults to 'unchecked'.\n",
    "\t#\n",
    "        self.push_button.setCheckable(True)\n",
    "\n",
    "        # Here we are connecting the button's 'clicked()' signal with a\n",
    "\t# a specific action, so that the action will be performed when\n",
    "\t# the button is clicked.\n",
    "\t#\n",
    "        self.connect(self.push_button, QtCore.SIGNAL('clicked()'), self.buttonAction)\n",
    "\n",
    "        # Here we are centering the push button in the WidgetExample object\n",
    "        self.push_button.move(15, 12.5)\n",
    "\n",
    "\n",
    "    # This is the action we wish to occur when the button is clicked.\n",
    "    # It simply changes the label on the button, but it could easily\n",
    "    # do much much more. Also note that because the button now has state,\n",
    "    # we can check for that state inside any actions it is connected to.\n",
    "    # This is ideal for toggling other portions of an application on or off.\n",
    "    #\n",
    "    def buttonAction(self):\n",
    "        if self.push_button.isChecked():\n",
    "                self.push_button.setText('The Button is Checked')\n",
    "        else:\n",
    "                self.push_button.setText('The Button is UnChecked')\n",
    "        \n",
    "    ###########################################################\n",
    "    #                   Example Widget End                    #\n",
    "    ###########################################################"
   ]
  }
 ],
 "metadata": {
  "kernelspec": {
   "display_name": "Python 3 (ipykernel)",
   "language": "python",
   "name": "python3"
  },
  "language_info": {
   "codemirror_mode": {
    "name": "ipython",
    "version": 3
   },
   "file_extension": ".py",
   "mimetype": "text/x-python",
   "name": "python",
   "nbconvert_exporter": "python",
   "pygments_lexer": "ipython3",
   "version": "3.9.12"
  }
 },
 "nbformat": 4,
 "nbformat_minor": 5
}
